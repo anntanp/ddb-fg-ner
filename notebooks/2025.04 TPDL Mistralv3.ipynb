{
 "cells": [
  {
   "cell_type": "code",
   "execution_count": 1,
   "id": "6ae8e1d9-35dd-4659-a5aa-9dd8d7303bb1",
   "metadata": {},
   "outputs": [],
   "source": [
    "import re\n",
    "import sys\n",
    "sys.path.append('./readme2kg-exp/src/')\n",
    "import os\n",
    "import random\n",
    "from collections import defaultdict\n",
    "from termcolor import colored\n",
    "from functools import partial, reduce\n",
    "import operator as op\n",
    "import hashlib\n",
    "import multiprocessing as mp\n",
    "import logging\n",
    "import json\n",
    "\n",
    "from predictor import BasePredictor, LABELS\n",
    "from webanno_tsv import webanno_tsv_read_file, Document, Annotation, Token\n",
    "import utils\n",
    "import cleaner"
   ]
  },
  {
   "cell_type": "code",
   "execution_count": 2,
   "id": "5a3be4a1-90bb-4601-963f-7cfe19c501c6",
   "metadata": {},
   "outputs": [],
   "source": [
    "phase = '3shot'\n",
    "model_name = 'Mistral-7B-Instruct-v0.3'"
   ]
  },
  {
   "cell_type": "code",
   "execution_count": 5,
   "id": "560ab781-056f-41fe-aad8-6acf457399c2",
   "metadata": {},
   "outputs": [
    {
     "name": "stdout",
     "output_type": "stream",
     "text": [
      "**Task:**\n",
      "You are tasked with performing Fine-Grained Named Entity Recognition (NER) on the given a publication title. \n",
      "Follow the examples to identify and classify entities into their respective categories. \n",
      "Annotate the entities directly in the original text using XML-style tags (e.g <TAG>Entity</TAG>). \n",
      "Only return the annotated text in Markdown format—no explanations, introductions, or extra text. \n",
      "Thank You.\n",
      "\n",
      "**Entity Classes:**\n",
      "1. DATE-CREATION - Date of creation (e.g. \"4. März\", \"19. Octobr.\", ).\n",
      "2. DATE-PUB - Date of publication (e.g. \"19. Octobr.\").\n",
      "3. DATE-SUBJ - Date being described in the title.\n",
      "4. GPE-AUT - Geopolitical entity responsible for authoring the title.\n",
      "5. GPE-CREATION - Geopolitical entity where the title was created.\n",
      "6. GPE-DES - Geopolitical entity mentioned as the designation of a person entity.\n",
      "7. GPE-SUBJ - Geopolitcal entity as the subject of the title.\n",
      "8. GPE-PUB - Geopolitical entity where the title was published.\n",
      "9. LITWORK - title of the publication (e.g. \"Geschlechterdifferenz und die Politik der Beziehung unter Frauen \").\n",
      "10. PERSON-AUT - Person entity responsibile for authoring the title (e.g. \"R. P. Aloysii Bellecii\").\n",
      "11. PERSON-CON - Person entity having contributed to the title.\n",
      "12. PERSON-EDT - Person entity who edited the title.\n",
      "13. PERSON-PUB - Person entity who published the title.\n",
      "14. PERSON-SUBJ - Person entity as the subject of the title.\n",
      "16. ORG-CREATION - Organization entity responsible for the creation of the title.\n",
      "17. ORG-DES - Organization entity mentioned as part of a person's designation.\n",
      "18. ORG-SUBJ - Organization mentioned as a subject in the title (e.g. \"Akademie des Arts zu Ludwigsburg\")\n",
      "19. ORG-PUB - Organization entity responsible for the publication of the title.\n",
      "20. YEAR-CREATION - Year of creation.\n",
      "21. YEAR-PUB - Year of publication.\n",
      "22. YEAR-SUBJ - Year mentioned as a subject in the title.\n",
      "\n",
      "\n",
      "**Examples:**\n",
      "*Example #1 - Publication Title:*\n",
      "\"Carolus VI. von Gottes Gnaden Erwählter Römis. Kayser , zu allen Zeiten Mehrer deß Reichs , König zu Hispanien , Hungarn und Böhaimb , [et]c. WIr müssen mit Allerungnädigstem Müßfallen vernemmen , daß ab denen in Anno 1707 . wegen der Dorffs-Einrichtungen mit Vorlegung deß Tobacks denen Underthonen zum besten , gemachten Verordnung , und darüber den 8. May Anno 1709 . widerholten General-Mandaten , nit gehalten : sondern ermelte Underthonen nit bey denen ihnen angewisenen Orthen , den Toback : hingegen die freye Wahl , wo es ihnen gefallt , zum Einkauff nemmen : Auch da Sie diser Widersessigkeit halber geklagt : und für Gericht erfordert werden , allda nit erscheinen wollen . ... : München den 23. December Anno 1712 . Ex Commissione Administrationis Caesareae .\"\n",
      "\n",
      "*Example #1 - Answer:*\n",
      "<PERSON-AUT>Carolus VI.</PERSON-AUT> von Gottes Gnaden Erwählter Römis. Kayser , zu allen Zeiten Mehrer deß Reichs , König zu <GPE-DES>Hispanien</GPE-DES> , <GPE-DES>Hungarn</GPE-DES> und <GPE-DES>Böhaimb</GPE-DES> , [et]c. WIr müssen mit Allerungnädigstem Müßfallen vernemmen , daß ab denen in Anno <YEAR-SUBJ>1707</YEAR-SUBJ> . wegen der Dorffs-Einrichtungen mit Vorlegung deß Tobacks denen Underthonen zum besten , gemachten Verordnung , und darüber den <DATE-SUBJ>8. May</DATE-SUBJ> Anno <YEAR-SUBJ>1709</YEAR-SUBJ> . widerholten General-Mandaten , nit gehalten : sondern ermelte Underthonen nit bey denen ihnen angewisenen Orthen , den Toback : hingegen die freye Wahl , wo es ihnen gefallt , zum Einkauff nemmen : Auch da Sie diser Widersessigkeit halber geklagt : und für Gericht erfordert werden , allda nit erscheinen wollen . ... : <GPE-CREATION>München</GPE-CREATION> den <DATE-CREATION>23. December</DATE-CREATION> Anno <YEAR-CREATION>1712</YEAR-CREATION> . Ex <ORG-AUT>Commissione Administrationis Caesareae</ORG-AUT> .\"\n",
      "\n",
      "*Example #2 - Publication Title:*\n",
      "Geschlechterdifferenz und die Politik der Beziehung unter Frauen: ein einführendes Gespräch in das Denken der Libreria delle Donne di Milano und der Philosophinnengemeinschaft DIOTIMA, geführt von Veronika Mariaux, DIOTIMA, Verona, und Andrea Günter, Theologin, Germanistin, Freiburg\n",
      "\n",
      "*Example #2 - Answer:*\n",
      "<LITWORK>Geschlechterdifferenz und die Politik der Beziehung unter Frauen</LITWORK> : ein einführendes Gespräch in das Denken der <ORG-PUB>Libreria delle Donne di Milano</ORG-PUB> und der <ORG-PUB>Philosophinnengemeinschaft <ORG-PUB>DIOTIMA</ORG-PUB> , geführt von <PERSON-AUT>Veronika Mariaux</PERSON-AUT> , <ORG-DES>DIOTIMA</ORG-DES> , <GPE-DES>Verona</GPE-DES> , und <PERSON-AUT>Andrea Günter</PERSON-AUT> , Theologin , Germanistin , <GPE-DES>Freiburg</GPE-DES>\n",
      "\n",
      "*Example #3 - Publication Title:*\n",
      "\"Wir von Gottes Gnaden Hedewig Sophia/ der Reiche Schweden Erb-Princeßin/ Hertzogin zu Schleßwig/ Hollstein/ ... Und von desselben Gnaden/ Wir Christian August ... in Vormundschafft Unsers ... Herrn Carl Friderichs, beede Erben zu Norwegen ... Fügen allen und jeden Medicinæ Doctoribus ... zu wissen/ demnach die Erfahrung gebracht/ daß da die Blessures, so bey denen heimichen Duellen und Schlägereyen verursachet/ nicht von dem Chyrurgo angegeben ... : Geben auff dem Schlosse Gottorff den 10. Maji 1708.\"\n",
      "\n",
      "*Example #3 - Answer:*\n",
      "\"Wir von Gottes Gnaden <PERSON-AUT>Hedewig Sophia</PERSON-AUT> / der Reiche <GPE-DES>Schweden</GPE-DES> Erb-Princeßin / Hertzogin zu <GPE-DES>Schleßwig/ Hollstein</GPE-DES> / ... Und von desselben Gnaden / Wir <PERSON-AUT>Christian August</PERSON-AUT> ... in Vormundschafft Unsers ... Herrn <PERSON-SUBJ>Carl Friderichs</PERSON-SUBJ> , beede Erben zu <GPE-DES>Norwegen</GPE-DES> ... Fügen allen und jeden Medicinæ Doctoribus ... zu wissen / demnach die Erfahrung gebracht / daß da die Blessures , so bey denen heimichen Duellen und Schlägereyen verursachet / nicht von dem Chyrurgo angegeben ... : Geben auff dem <GPE-CREATION>Schlosse Gottorff</GPE-CREATION> den <DATE-CREATION>10. Maji <YEAR-CREATION>1708</YEAR-CREATION> .\"\n",
      "\n",
      "---\n",
      "Publication Title:\n",
      "\n",
      "{input_text}\n",
      "\n"
     ]
    }
   ],
   "source": [
    "prompt_id = '3shot'\n",
    "\n",
    "prompt_template_path = f'data/ner-202407/prompt-{prompt_id}.txt'\n",
    "if os.path.isfile(prompt_template_path):\n",
    "    with open(prompt_template_path, 'r') as fd:\n",
    "        prompt_template = fd.read()\n",
    "else:\n",
    "    prompt_template = ''\n",
    "print(prompt_template)"
   ]
  },
  {
   "cell_type": "code",
   "execution_count": 6,
   "id": "3f48a167-1da8-4b72-bd9b-7e2861b6b114",
   "metadata": {},
   "outputs": [
    {
     "name": "stdout",
     "output_type": "stream",
     "text": [
      "[{'role': 'system', 'content': 'You are a highly accurate Named Entity Recognition (NER) in the library domain.'}, {'role': 'user', 'content': '**Task:**\\nYou are tasked with performing Fine-Grained Named Entity Recognition (NER) on the given a publication title. \\nFollow the examples to identify and classify entities into their respective categories. \\nAnnotate the entities directly in the original text using XML-style tags (e.g <TAG>Entity</TAG>). \\nOnly return the annotated text in Markdown format—no explanations, introductions, or extra text. \\nThank You.\\n\\n**Entity Classes:**\\n1. DATE-CREATION - Date of creation (e.g. \"4. März\", \"19. Octobr.\", ).\\n2. DATE-PUB - Date of publication (e.g. \"19. Octobr.\").\\n3. DATE-SUBJ - Date being described in the title.\\n4. GPE-AUT - Geopolitical entity responsible for authoring the title.\\n5. GPE-CREATION - Geopolitical entity where the title was created.\\n6. GPE-DES - Geopolitical entity mentioned as the designation of a person entity.\\n7. GPE-SUBJ - Geopolitcal entity as the subject of the title.\\n8. GPE-PUB - Geopolitical entity where the title was published.\\n9. LITWORK - title of the publication (e.g. \"Geschlechterdifferenz und die Politik der Beziehung unter Frauen \").\\n10. PERSON-AUT - Person entity responsibile for authoring the title (e.g. \"R. P. Aloysii Bellecii\").\\n11. PERSON-CON - Person entity having contributed to the title.\\n12. PERSON-EDT - Person entity who edited the title.\\n13. PERSON-PUB - Person entity who published the title.\\n14. PERSON-SUBJ - Person entity as the subject of the title.\\n16. ORG-CREATION - Organization entity responsible for the creation of the title.\\n17. ORG-DES - Organization entity mentioned as part of a person\\'s designation.\\n18. ORG-SUBJ - Organization mentioned as a subject in the title (e.g. \"Akademie des Arts zu Ludwigsburg\")\\n19. ORG-PUB - Organization entity responsible for the publication of the title.\\n20. YEAR-CREATION - Year of creation.\\n21. YEAR-PUB - Year of publication.\\n22. YEAR-SUBJ - Year mentioned as a subject in the title.\\n\\n\\n**Examples:**\\n*Example #1 - Publication Title:*\\n\"Carolus VI. von Gottes Gnaden Erwählter Römis. Kayser , zu allen Zeiten Mehrer deß Reichs , König zu Hispanien , Hungarn und Böhaimb , [et]c. WIr müssen mit Allerungnädigstem Müßfallen vernemmen , daß ab denen in Anno 1707 . wegen der Dorffs-Einrichtungen mit Vorlegung deß Tobacks denen Underthonen zum besten , gemachten Verordnung , und darüber den 8. May Anno 1709 . widerholten General-Mandaten , nit gehalten : sondern ermelte Underthonen nit bey denen ihnen angewisenen Orthen , den Toback : hingegen die freye Wahl , wo es ihnen gefallt , zum Einkauff nemmen : Auch da Sie diser Widersessigkeit halber geklagt : und für Gericht erfordert werden , allda nit erscheinen wollen . ... : München den 23. December Anno 1712 . Ex Commissione Administrationis Caesareae .\"\\n\\n*Example #1 - Answer:*\\n<PERSON-AUT>Carolus VI.</PERSON-AUT> von Gottes Gnaden Erwählter Römis. Kayser , zu allen Zeiten Mehrer deß Reichs , König zu <GPE-DES>Hispanien</GPE-DES> , <GPE-DES>Hungarn</GPE-DES> und <GPE-DES>Böhaimb</GPE-DES> , [et]c. WIr müssen mit Allerungnädigstem Müßfallen vernemmen , daß ab denen in Anno <YEAR-SUBJ>1707</YEAR-SUBJ> . wegen der Dorffs-Einrichtungen mit Vorlegung deß Tobacks denen Underthonen zum besten , gemachten Verordnung , und darüber den <DATE-SUBJ>8. May</DATE-SUBJ> Anno <YEAR-SUBJ>1709</YEAR-SUBJ> . widerholten General-Mandaten , nit gehalten : sondern ermelte Underthonen nit bey denen ihnen angewisenen Orthen , den Toback : hingegen die freye Wahl , wo es ihnen gefallt , zum Einkauff nemmen : Auch da Sie diser Widersessigkeit halber geklagt : und für Gericht erfordert werden , allda nit erscheinen wollen . ... : <GPE-CREATION>München</GPE-CREATION> den <DATE-CREATION>23. December</DATE-CREATION> Anno <YEAR-CREATION>1712</YEAR-CREATION> . Ex <ORG-AUT>Commissione Administrationis Caesareae</ORG-AUT> .\"\\n\\n*Example #2 - Publication Title:*\\nGeschlechterdifferenz und die Politik der Beziehung unter Frauen: ein einführendes Gespräch in das Denken der Libreria delle Donne di Milano und der Philosophinnengemeinschaft DIOTIMA, geführt von Veronika Mariaux, DIOTIMA, Verona, und Andrea Günter, Theologin, Germanistin, Freiburg\\n\\n*Example #2 - Answer:*\\n<LITWORK>Geschlechterdifferenz und die Politik der Beziehung unter Frauen</LITWORK> : ein einführendes Gespräch in das Denken der <ORG-PUB>Libreria delle Donne di Milano</ORG-PUB> und der <ORG-PUB>Philosophinnengemeinschaft <ORG-PUB>DIOTIMA</ORG-PUB> , geführt von <PERSON-AUT>Veronika Mariaux</PERSON-AUT> , <ORG-DES>DIOTIMA</ORG-DES> , <GPE-DES>Verona</GPE-DES> , und <PERSON-AUT>Andrea Günter</PERSON-AUT> , Theologin , Germanistin , <GPE-DES>Freiburg</GPE-DES>\\n\\n*Example #3 - Publication Title:*\\n\"Wir von Gottes Gnaden Hedewig Sophia/ der Reiche Schweden Erb-Princeßin/ Hertzogin zu Schleßwig/ Hollstein/ ... Und von desselben Gnaden/ Wir Christian August ... in Vormundschafft Unsers ... Herrn Carl Friderichs, beede Erben zu Norwegen ... Fügen allen und jeden Medicinæ Doctoribus ... zu wissen/ demnach die Erfahrung gebracht/ daß da die Blessures, so bey denen heimichen Duellen und Schlägereyen verursachet/ nicht von dem Chyrurgo angegeben ... : Geben auff dem Schlosse Gottorff den 10. Maji 1708.\"\\n\\n*Example #3 - Answer:*\\n\"Wir von Gottes Gnaden <PERSON-AUT>Hedewig Sophia</PERSON-AUT> / der Reiche <GPE-DES>Schweden</GPE-DES> Erb-Princeßin / Hertzogin zu <GPE-DES>Schleßwig/ Hollstein</GPE-DES> / ... Und von desselben Gnaden / Wir <PERSON-AUT>Christian August</PERSON-AUT> ... in Vormundschafft Unsers ... Herrn <PERSON-SUBJ>Carl Friderichs</PERSON-SUBJ> , beede Erben zu <GPE-DES>Norwegen</GPE-DES> ... Fügen allen und jeden Medicinæ Doctoribus ... zu wissen / demnach die Erfahrung gebracht / daß da die Blessures , so bey denen heimichen Duellen und Schlägereyen verursachet / nicht von dem Chyrurgo angegeben ... : Geben auff dem <GPE-CREATION>Schlosse Gottorff</GPE-CREATION> den <DATE-CREATION>10. Maji <YEAR-CREATION>1708</YEAR-CREATION> .\"\\n\\n---\\nPublication Title:\\n\\nChristliche Leichenpredigt Vber den Text aus dem 2. Buch Samuelis am 10. Cap. v. 12. Sey getrost , und laß uns starck seyn für unser Volck , etc. : Bey volckreicher Leichenbestattung Des ... H. Stellan Otto von Mörners , Königl. Maj. und Cron Schweden ... Rittmeisters , Welcher den XXX. Octob. ... sein Leben ritterlich und seliglich beschlossen , und folgends den 11. Decemb. ... beygesetzet worden\\n'}]\n"
     ]
    }
   ],
   "source": [
    "sentence_text = \"Christliche Leichenpredigt Vber den Text aus dem 2. Buch Samuelis am 10. Cap. v. 12. Sey getrost , und laß uns starck seyn für unser Volck , etc. : Bey volckreicher Leichenbestattung Des ... H. Stellan Otto von Mörners , Königl. Maj. und Cron Schweden ... Rittmeisters , Welcher den XXX. Octob. ... sein Leben ritterlich und seliglich beschlossen , und folgends den 11. Decemb. ... beygesetzet worden\"\n",
    "prompt = prompt_template.replace('{input_text}', sentence_text)\n",
    "messages=[\n",
    "            {\"role\": \"system\", \"content\": \"You are a highly accurate Named Entity Recognition (NER) in the library domain.\"},\n",
    "            {\"role\": \"user\", \"content\": prompt},\n",
    "        ]\n",
    "print(messages)"
   ]
  },
  {
   "cell_type": "markdown",
   "id": "4901a66c-ff2d-4d40-a331-15ff80039bb6",
   "metadata": {},
   "source": [
    "# Load Mistral model"
   ]
  },
  {
   "cell_type": "code",
   "execution_count": 7,
   "id": "80a3d58c-edbc-431f-8b96-48e919e4080e",
   "metadata": {},
   "outputs": [
    {
     "data": {
      "application/vnd.jupyter.widget-view+json": {
       "model_id": "a8d4e684b8cf4b6da7f1af1cb00a96cb",
       "version_major": 2,
       "version_minor": 0
      },
      "text/plain": [
       "Fetching 3 files:   0%|          | 0/3 [00:00<?, ?it/s]"
      ]
     },
     "metadata": {},
     "output_type": "display_data"
    },
    {
     "data": {
      "text/plain": [
       "'/home/ann/mistral_models/7B-Instruct-v0.3'"
      ]
     },
     "execution_count": 7,
     "metadata": {},
     "output_type": "execute_result"
    }
   ],
   "source": [
    "from huggingface_hub import snapshot_download\n",
    "from pathlib import Path\n",
    "\n",
    "mistral_models_path = Path.home().joinpath('mistral_models', '7B-Instruct-v0.3')\n",
    "mistral_models_path.mkdir(parents=True, exist_ok=True)\n",
    "\n",
    "snapshot_download(repo_id=\"mistralai/Mistral-7B-Instruct-v0.3\", allow_patterns=[\"params.json\", \"consolidated.safetensors\", \"tokenizer.model.v3\"], local_dir=mistral_models_path)"
   ]
  },
  {
   "cell_type": "code",
   "execution_count": 8,
   "id": "e4d75786-539a-4ee6-855b-784ddb994a87",
   "metadata": {},
   "outputs": [
    {
     "name": "stdout",
     "output_type": "stream",
     "text": [
      "['<LITWORK>Christliche Leichenpredigt Vber den Text aus dem 2. Buch Samuelis am 10. Cap. v. 12. Sey getrost , und laß uns starck seyn für unser Volck , etc.</LITWORK> : Bey volckreicher Leichenbestattung Des ... <PERSON-SUBJ>H. Stellan Otto von Mörners</PERSON-SUBJ> , Königl. Maj. und Cron <GPE-DES>Schweden</GPE-DES> ... Rittmeisters , Welcher den XXX. <DATE-SUBJ>Octob.</DATE-SUBJ> ... sein Leben ritterlich und seliglich beschlossen , und folgends den <DATE-SUBJ>11. Decemb.</DATE-SUBJ> ... beygesetzet worden']\n"
     ]
    }
   ],
   "source": [
    "from mistral_inference.transformer import Transformer\n",
    "from mistral_inference.generate import generate\n",
    "\n",
    "from mistral_common.tokens.tokenizers.mistral import MistralTokenizer\n",
    "from mistral_common.protocol.instruct.messages import UserMessage\n",
    "from mistral_common.protocol.instruct.request import ChatCompletionRequest\n",
    "\n",
    "\n",
    "tokenizer = MistralTokenizer.from_file(f\"{mistral_models_path}/tokenizer.model.v3\")\n",
    "model = Transformer.from_folder(mistral_models_path)\n",
    "\n",
    "completion_request = ChatCompletionRequest(messages=messages)\n",
    "\n",
    "tokens = tokenizer.encode_chat_completion(completion_request).tokens\n",
    "\n",
    "out_tokens, _ = generate([tokens], model, max_tokens=1000, temperature=0.0, eos_id=tokenizer.instruct_tokenizer.tokenizer.eos_id)\n",
    "result = tokenizer.instruct_tokenizer.tokenizer.decode(out_tokens)\n",
    "\n",
    "print(result)"
   ]
  },
  {
   "cell_type": "code",
   "execution_count": 9,
   "id": "2e1bc1ba-089a-4cb9-95ae-4f691968fedf",
   "metadata": {},
   "outputs": [],
   "source": [
    "def do_prediction(title):\n",
    "    #print(f\"Process-{os.getpid()} processing {colored(sentence.text, 'red')} ...\")\n",
    "    prompt = prompt_template.replace('{input_text}', title)\n",
    "\n",
    "    completion_request = ChatCompletionRequest(messages=[\n",
    "        {\"role\": \"system\", \"content\": \"You are a highly accurate Named Entity Recognition (NER) in the library domain.\"},\n",
    "        {\"role\": \"user\", \"content\": prompt},\n",
    "    ])\n",
    "    tokens = tokenizer.encode_chat_completion(completion_request).tokens\n",
    "\n",
    "    out_tokens, _ = generate([tokens], model, max_tokens=255, temperature=0.0, eos_id=tokenizer.instruct_tokenizer.tokenizer.eos_id)\n",
    "    result = tokenizer.instruct_tokenizer.tokenizer.decode(out_tokens[0])\n",
    "    \n",
    "    return result"
   ]
  },
  {
   "cell_type": "code",
   "execution_count": 22,
   "id": "077f2c86-c1ce-45ef-9a3f-36c2e5d97a62",
   "metadata": {},
   "outputs": [],
   "source": [
    "# DO NOT RUN THIS\n",
    "with open ('data/ner-202407/results-Mistral-7B-Instruct-v0.3-3shot-20250417151610.json') as f:\n",
    "    result_list = json.load(f)"
   ]
  },
  {
   "cell_type": "code",
   "execution_count": 17,
   "id": "67263eac-d7a8-481a-84a5-ef35907b41db",
   "metadata": {},
   "outputs": [],
   "source": [
    "result_list = []"
   ]
  },
  {
   "cell_type": "code",
   "execution_count": 24,
   "id": "ee5349e6-b4b2-49f8-bd0e-a5fc25f83a8c",
   "metadata": {},
   "outputs": [
    {
     "data": {
      "application/vnd.jupyter.widget-view+json": {
       "model_id": "25eee55f06864e72a8bb67b96f08c633",
       "version_major": 2,
       "version_minor": 0
      },
      "text/plain": [
       "Output()"
      ]
     },
     "metadata": {},
     "output_type": "display_data"
    },
    {
     "data": {
      "text/html": [
       "<pre style=\"white-space:pre;overflow-x:auto;line-height:normal;font-family:Menlo,'DejaVu Sans Mono',consolas,'Courier New',monospace\"></pre>\n"
      ],
      "text/plain": []
     },
     "metadata": {},
     "output_type": "display_data"
    }
   ],
   "source": [
    "from datetime import datetime\n",
    "from rich.progress import track, Progress\n",
    "from rich import print\n",
    "\n",
    "with open('data/ner-202407/ddb-ner-dataset.json') as f:\n",
    "    sentence_list = json.load(f)\n",
    "\n",
    "\n",
    "now = datetime.now() # current date and time\n",
    "timestamp = now.strftime(\"%Y%m%d%H%M%S\")\n",
    "foutname = f'data/ner-202407/results-{model_name}-{prompt_id}-{timestamp}.json' # NOTE: prefix zzz for directory sorting, non-sense\n",
    "\n",
    "offset = 739\n",
    "with Progress() as progress:\n",
    "\n",
    "    task1 = progress.add_task(\"[blue] Prompt sample [%s]\" % (len(sentence_list)), total=len(sentence_list))\n",
    "\n",
    "    for elem in sentence_list:\n",
    "        progress.update(task1, advance=1)\n",
    "        sent_id = elem['sent_id']\n",
    "        title = elem['title']\n",
    "        annotation = elem['annotation']\n",
    "\n",
    "        if offset >= sent_id:\n",
    "            continue\n",
    "        \n",
    "        predicted = do_prediction(title)\n",
    "\n",
    "        #for testing\n",
    "        #print(predicted)\n",
    "        #break\n",
    "        \n",
    "        result_list.append({\\\n",
    "            'sent_id': sent_id,\\\n",
    "            'title': title, \\\n",
    "            'gt': annotation, \\\n",
    "            'pred': predicted\n",
    "        })\n",
    "\n",
    "with open(foutname, 'w') as f:\n",
    "    json.dump(result_list, f)"
   ]
  },
  {
   "cell_type": "code",
   "execution_count": 20,
   "id": "adae5813-7e4a-4c8e-9f8b-28fa63dc55c1",
   "metadata": {},
   "outputs": [],
   "source": [
    "with open(foutname, 'w') as f:\n",
    "    json.dump(result_list, f)"
   ]
  },
  {
   "cell_type": "code",
   "execution_count": 23,
   "id": "2329b451-d3b7-4b21-b697-ba793f560d17",
   "metadata": {},
   "outputs": [
    {
     "data": {
      "text/html": [
       "<pre style=\"white-space:pre;overflow-x:auto;line-height:normal;font-family:Menlo,'DejaVu Sans Mono',consolas,'Courier New',monospace\"><span style=\"color: #008080; text-decoration-color: #008080; font-weight: bold\">739</span>\n",
       "</pre>\n"
      ],
      "text/plain": [
       "\u001b[1;36m739\u001b[0m\n"
      ]
     },
     "metadata": {},
     "output_type": "display_data"
    }
   ],
   "source": [
    "print(len(result_list))"
   ]
  }
 ],
 "metadata": {
  "kernelspec": {
   "display_name": "Python 3 (ipykernel)",
   "language": "python",
   "name": "python3"
  },
  "language_info": {
   "codemirror_mode": {
    "name": "ipython",
    "version": 3
   },
   "file_extension": ".py",
   "mimetype": "text/x-python",
   "name": "python",
   "nbconvert_exporter": "python",
   "pygments_lexer": "ipython3",
   "version": "3.10.16"
  }
 },
 "nbformat": 4,
 "nbformat_minor": 5
}
